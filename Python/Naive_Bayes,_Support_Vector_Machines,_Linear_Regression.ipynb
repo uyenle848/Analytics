{
  "nbformat": 4,
  "nbformat_minor": 0,
  "metadata": {
    "colab": {
      "name": "Naive Bayes, Support Vector Machines, Linear Regression",
      "provenance": [],
      "collapsed_sections": []
    },
    "kernelspec": {
      "name": "python3",
      "display_name": "Python 3"
    }
  },
  "cells": [
    {
      "cell_type": "markdown",
      "metadata": {
        "id": "3yIFGXLYzmiN"
      },
      "source": [
        "# Module 6 Exercises"
      ]
    },
    {
      "cell_type": "markdown",
      "metadata": {
        "id": "g4DMG_rJzwZq"
      },
      "source": [
        "## The breast cancer Wisconsin dataset (classification problem)\n",
        "\n",
        "Let us build two predictive models on the following dataset:\n",
        "\n",
        "(http://archive.ics.uci.edu/ml/datasets/breast+cancer+wisconsin+%28original%29)\n",
        "\n"
      ]
    },
    {
      "cell_type": "code",
      "metadata": {
        "id": "exnwFpEaVOxt",
        "colab": {
          "base_uri": "https://localhost:8080/"
        },
        "outputId": "1f4fb08d-c87d-4627-d2dd-f772327223d0"
      },
      "source": [
        "# load the breast cancer Wisconsin dataset\n",
        "from sklearn.datasets import load_breast_cancer\n",
        "cancer = load_breast_cancer()\n",
        "type(cancer)"
      ],
      "execution_count": null,
      "outputs": [
        {
          "output_type": "execute_result",
          "data": {
            "text/plain": [
              "sklearn.utils.Bunch"
            ]
          },
          "metadata": {
            "tags": []
          },
          "execution_count": 14
        }
      ]
    },
    {
      "cell_type": "markdown",
      "metadata": {
        "id": "NPdHmxPMYyrq"
      },
      "source": [
        "Bunch is a Dictionary-like object in Scikit-Learn. The interesting attributes are: \n",
        "- ‘data’, the data to learn, \n",
        "- ‘target’, the classification labels, \n",
        "-‘target_names’, the meaning of the labels, \n",
        "- ‘feature_names’, the meaning of the features, and \n",
        "-‘DESCR’, the full description of the dataset, \n",
        "- ‘filename’, the physical location of breast cancer csv dataset (added in version 0.20)."
      ]
    },
    {
      "cell_type": "code",
      "metadata": {
        "id": "Q_sHliMPZCIq",
        "colab": {
          "base_uri": "https://localhost:8080/"
        },
        "outputId": "906d1588-e378-4b57-c306-521818950208"
      },
      "source": [
        "list(cancer.feature_names)"
      ],
      "execution_count": null,
      "outputs": [
        {
          "output_type": "execute_result",
          "data": {
            "text/plain": [
              "['mean radius',\n",
              " 'mean texture',\n",
              " 'mean perimeter',\n",
              " 'mean area',\n",
              " 'mean smoothness',\n",
              " 'mean compactness',\n",
              " 'mean concavity',\n",
              " 'mean concave points',\n",
              " 'mean symmetry',\n",
              " 'mean fractal dimension',\n",
              " 'radius error',\n",
              " 'texture error',\n",
              " 'perimeter error',\n",
              " 'area error',\n",
              " 'smoothness error',\n",
              " 'compactness error',\n",
              " 'concavity error',\n",
              " 'concave points error',\n",
              " 'symmetry error',\n",
              " 'fractal dimension error',\n",
              " 'worst radius',\n",
              " 'worst texture',\n",
              " 'worst perimeter',\n",
              " 'worst area',\n",
              " 'worst smoothness',\n",
              " 'worst compactness',\n",
              " 'worst concavity',\n",
              " 'worst concave points',\n",
              " 'worst symmetry',\n",
              " 'worst fractal dimension']"
            ]
          },
          "metadata": {
            "tags": []
          },
          "execution_count": 15
        }
      ]
    },
    {
      "cell_type": "code",
      "metadata": {
        "id": "zjc1NEgrZJ00",
        "colab": {
          "base_uri": "https://localhost:8080/"
        },
        "outputId": "b03077a5-dda5-429a-a78e-7eca5eb02f18"
      },
      "source": [
        "list(cancer.target_names)"
      ],
      "execution_count": null,
      "outputs": [
        {
          "output_type": "execute_result",
          "data": {
            "text/plain": [
              "['malignant', 'benign']"
            ]
          },
          "metadata": {
            "tags": []
          },
          "execution_count": 16
        }
      ]
    },
    {
      "cell_type": "markdown",
      "metadata": {
        "id": "S7_EEqvXeNGU"
      },
      "source": [
        "## Question 1"
      ]
    },
    {
      "cell_type": "code",
      "metadata": {
        "id": "hQ6eURzEZNBT"
      },
      "source": [
        "# split the data into training and test data\n",
        "from sklearn.model_selection import train_test_split\n",
        "X_train, X_test, y_train, y_test = train_test_split(cancer.data, cancer.target, test_size=0.25, random_state=0)"
      ],
      "execution_count": null,
      "outputs": []
    },
    {
      "cell_type": "code",
      "metadata": {
        "id": "YOn3L_1QhUVG"
      },
      "source": [
        "# Let us apply Feature Scaling to our data\n",
        "from sklearn.preprocessing import StandardScaler\n",
        "sc = StandardScaler()\n",
        "X_train = sc.fit_transform(X_train)\n",
        "X_test = sc.transform(X_test)"
      ],
      "execution_count": null,
      "outputs": []
    },
    {
      "cell_type": "code",
      "metadata": {
        "id": "b3ITKmLRbKlP",
        "colab": {
          "base_uri": "https://localhost:8080/",
          "height": 130
        },
        "outputId": "fefde76c-b778-4ccd-c314-d2a679e3cc5a"
      },
      "source": [
        "# Use GaussianNB method of Naive Bayes class to build a prediction model on training data\n",
        "# Obtain the accuracy of your model predictions on test data\n",
        "# Create a confusion matrix as part of your output\n",
        "\n",
        "# ANSWER:\n",
        "\n",
        "1. import your model\n",
        "2. instantiate your model\n",
        "3. fit your model to training data\n",
        "4. evaluate your trained model on test data\n",
        "\n"
      ],
      "execution_count": null,
      "outputs": [
        {
          "output_type": "error",
          "ename": "SyntaxError",
          "evalue": "ignored",
          "traceback": [
            "\u001b[0;36m  File \u001b[0;32m\"<ipython-input-19-e404405ad915>\"\u001b[0;36m, line \u001b[0;32m7\u001b[0m\n\u001b[0;31m    1. import your model\u001b[0m\n\u001b[0m            ^\u001b[0m\n\u001b[0;31mSyntaxError\u001b[0m\u001b[0;31m:\u001b[0m invalid syntax\n"
          ]
        }
      ]
    },
    {
      "cell_type": "code",
      "metadata": {
        "id": "0jKRjr-qMFJm"
      },
      "source": [
        "from sklearn.naive_bayes import GaussianNB\n",
        "model = GaussianNB()\n",
        "model.fit(X_train, y_train)\n",
        "y_model = model.predict(X_test)"
      ],
      "execution_count": null,
      "outputs": []
    },
    {
      "cell_type": "code",
      "metadata": {
        "colab": {
          "base_uri": "https://localhost:8080/"
        },
        "id": "eeLXumznQ0uN",
        "outputId": "c6debdfc-da20-4b1d-cda4-088dbb3af29c"
      },
      "source": [
        "y_model"
      ],
      "execution_count": null,
      "outputs": [
        {
          "output_type": "execute_result",
          "data": {
            "text/plain": [
              "array([0, 1, 1, 1, 1, 1, 1, 1, 1, 1, 0, 1, 1, 0, 0, 0, 0, 0, 0, 0, 0, 0,\n",
              "       1, 1, 0, 1, 1, 0, 1, 0, 1, 0, 1, 0, 1, 0, 1, 0, 1, 0, 1, 1, 0, 1,\n",
              "       0, 0, 1, 1, 1, 0, 0, 0, 0, 1, 1, 1, 1, 1, 1, 0, 0, 0, 1, 1, 0, 1,\n",
              "       0, 0, 0, 1, 1, 0, 1, 1, 0, 1, 1, 1, 1, 1, 0, 0, 0, 1, 0, 1, 1, 1,\n",
              "       0, 0, 1, 1, 1, 0, 1, 1, 0, 0, 1, 1, 1, 1, 1, 1, 0, 1, 0, 1, 1, 1,\n",
              "       1, 0, 0, 1, 1, 1, 1, 1, 1, 1, 1, 1, 0, 1, 0, 1, 1, 1, 1, 1, 0, 1,\n",
              "       1, 1, 1, 1, 1, 1, 0, 1, 1, 1, 0])"
            ]
          },
          "metadata": {
            "tags": []
          },
          "execution_count": 21
        }
      ]
    },
    {
      "cell_type": "code",
      "metadata": {
        "colab": {
          "base_uri": "https://localhost:8080/"
        },
        "id": "KGMbgTGDRLuY",
        "outputId": "2527bdf2-6836-464d-9326-4ee831f01ed9"
      },
      "source": [
        "from sklearn.metrics import accuracy_score\n",
        "accuracy_score(y_test, y_model)"
      ],
      "execution_count": null,
      "outputs": [
        {
          "output_type": "execute_result",
          "data": {
            "text/plain": [
              "0.916083916083916"
            ]
          },
          "metadata": {
            "tags": []
          },
          "execution_count": 22
        }
      ]
    },
    {
      "cell_type": "markdown",
      "metadata": {
        "id": "vlJzZd-seRdH"
      },
      "source": [
        "## Question 2"
      ]
    },
    {
      "cell_type": "code",
      "metadata": {
        "id": "fsoLGbAdeR_O"
      },
      "source": [
        "# split the data into training and test data\n",
        "from sklearn.model_selection import train_test_split\n",
        "X_train, X_test, y_train, y_test = train_test_split(cancer.data, cancer.target, test_size=0.25, random_state=0)"
      ],
      "execution_count": null,
      "outputs": []
    },
    {
      "cell_type": "code",
      "metadata": {
        "id": "3Mmue8Z-grYT"
      },
      "source": [
        "# Let us apply Feature Scaling to our data\n",
        "from sklearn.preprocessing import StandardScaler\n",
        "sc = StandardScaler()\n",
        "X_train = sc.fit_transform(X_train)\n",
        "X_test = sc.transform(X_test)"
      ],
      "execution_count": null,
      "outputs": []
    },
    {
      "cell_type": "code",
      "metadata": {
        "id": "BFmnsCIee0Yq"
      },
      "source": [
        "# Use Support vector Machines (SVM) class in Scikit-Learn to build a prediction model on training data\n",
        "# Obtain the accuracy of your model predictions on test data\n",
        "# Create a confusion matrix as part of your output\n",
        "\n",
        "# ANSWER:\n",
        "from sklearn import svm \n",
        "clf = svm.SVC()\n",
        "clf.fit(X_train, y_train)\n",
        "y_model2 = clf.predict(X_test)\n"
      ],
      "execution_count": null,
      "outputs": []
    },
    {
      "cell_type": "code",
      "metadata": {
        "colab": {
          "base_uri": "https://localhost:8080/"
        },
        "id": "YAC_9MimWcqj",
        "outputId": "32a2bc2a-88fa-4564-ffec-e258a72785ad"
      },
      "source": [
        "from sklearn.metrics import accuracy_score\n",
        "accuracy_score(y_test, y_model2)"
      ],
      "execution_count": null,
      "outputs": [
        {
          "output_type": "execute_result",
          "data": {
            "text/plain": [
              "0.965034965034965"
            ]
          },
          "metadata": {
            "tags": []
          },
          "execution_count": 26
        }
      ]
    },
    {
      "cell_type": "code",
      "metadata": {
        "colab": {
          "base_uri": "https://localhost:8080/",
          "height": 279
        },
        "id": "v9vaaUTHcEjL",
        "outputId": "59c391a5-cc20-45ab-aa0b-973e358dec46"
      },
      "source": [
        "from sklearn.metrics import confusion_matrix\n",
        "import seaborn as sns\n",
        "import numpy as np\n",
        "import matplotlib.pyplot as plt\n",
        "\n",
        "mat = confusion_matrix(y_test, y_model2)\n",
        "sns.heatmap(mat.T, square=True, annot=True, fmt='d', cbar=False,\n",
        "            xticklabels=cancer.target_names,\n",
        "            yticklabels=cancer.target_names)\n",
        "plt.xlabel('true label')\n",
        "plt.ylabel('predicted label');"
      ],
      "execution_count": null,
      "outputs": [
        {
          "output_type": "display_data",
          "data": {
            "image/png": "[encoded data removed]",
            "text/plain": [
              "<Figure size 432x288 with 1 Axes>"
            ]
          },
          "metadata": {
            "tags": [],
            "needs_background": "light"
          }
        }
      ]
    },
    {
      "cell_type": "markdown",
      "metadata": {
        "id": "3hwLh1nrgTig"
      },
      "source": [
        "## Question 3"
      ]
    },
    {
      "cell_type": "markdown",
      "metadata": {
        "id": "9J4KdQtqt1Rw"
      },
      "source": [
        "## Diabetes dataset"
      ]
    },
    {
      "cell_type": "markdown",
      "metadata": {
        "id": "yUScpvSHzZQ3"
      },
      "source": [
        "https://www4.stat.ncsu.edu/~boos/var.select/diabetes.html\n",
        "\n",
        "The dataset contains 10 features (that have already been mean centered and scaled) and a target value: a measure of disease progression one year after baseline."
      ]
    },
    {
      "cell_type": "code",
      "metadata": {
        "id": "GiyvZ8Esz5dj",
        "colab": {
          "base_uri": "https://localhost:8080/"
        },
        "outputId": "14af83fc-06aa-4524-f886-ed55bd701a6f"
      },
      "source": [
        "# load the dataset\n",
        "import pandas as pd\n",
        "from sklearn.datasets import load_diabetes\n",
        "X, y = load_diabetes(return_X_y=True)\n",
        "X = pd.DataFrame(X)\n",
        "y = pd.DataFrame(y)\n",
        "print(X.head())\n",
        "print(y.head())"
      ],
      "execution_count": null,
      "outputs": [
        {
          "output_type": "stream",
          "text": [
            "          0         1         2  ...         7         8         9\n",
            "0  0.038076  0.050680  0.061696  ... -0.002592  0.019908 -0.017646\n",
            "1 -0.001882 -0.044642 -0.051474  ... -0.039493 -0.068330 -0.092204\n",
            "2  0.085299  0.050680  0.044451  ... -0.002592  0.002864 -0.025930\n",
            "3 -0.089063 -0.044642 -0.011595  ...  0.034309  0.022692 -0.009362\n",
            "4  0.005383 -0.044642 -0.036385  ... -0.002592 -0.031991 -0.046641\n",
            "\n",
            "[5 rows x 10 columns]\n",
            "       0\n",
            "0  151.0\n",
            "1   75.0\n",
            "2  141.0\n",
            "3  206.0\n",
            "4  135.0\n"
          ],
          "name": "stdout"
        }
      ]
    },
    {
      "cell_type": "code",
      "metadata": {
        "id": "zKTzoY_Y0xfE"
      },
      "source": [
        "# setting up training set and test set \n",
        "from sklearn.model_selection import train_test_split\n",
        "X_train, X_test, y_train, y_test = train_test_split(X, y, test_size=0.25, random_state=0)\n"
      ],
      "execution_count": null,
      "outputs": []
    },
    {
      "cell_type": "code",
      "metadata": {
        "id": "eWBs2_fp1Wlp",
        "colab": {
          "base_uri": "https://localhost:8080/"
        },
        "outputId": "e0b59b16-4236-43af-860d-ea63dced66ca"
      },
      "source": [
        "# fit a linear regression model on training data and determine training set score and test set score\n",
        "# ANSWER:\n",
        "from sklearn.linear_model import LinearRegression\n",
        "lr = LinearRegression().fit(X_train, y_train)\n",
        "\n",
        "print(\"Training set score: {:.2f}\".format(lr.score(X_train, y_train)))\n",
        "print(\"Test set score: {:.2f}\".format(lr.score(X_test, y_test)))\n",
        "print(\"Number of features used under linear regression:\", np.sum(lr.coef_ !=0))\n",
        "\n"
      ],
      "execution_count": null,
      "outputs": [
        {
          "output_type": "stream",
          "text": [
            "Training set score: 0.56\n",
            "Test set score: 0.36\n",
            "Number of features used under linear regression: 10\n"
          ],
          "name": "stdout"
        }
      ]
    }
  ]
}